{
 "cells": [
  {
   "cell_type": "code",
   "execution_count": 1,
   "metadata": {},
   "outputs": [],
   "source": [
    "import requests\n",
    "from bs4 import BeautifulSoup"
   ]
  },
  {
   "cell_type": "code",
   "execution_count": 2,
   "metadata": {},
   "outputs": [],
   "source": [
    "url = \"https://www.investopedia.com/\"\n",
    "headers = {\n",
    "    \"User-Agent\": \"Mozilla/5.0 (Windows NT 10.0; Win64; x64) AppleWebKit/537.36 (KHTML, like Gecko) Chrome/125.0.0.0 Safari/537.36\"\n",
    "}"
   ]
  },
  {
   "cell_type": "code",
   "execution_count": 3,
   "metadata": {},
   "outputs": [],
   "source": [
    "response = requests.get(url, headers=headers)"
   ]
  },
  {
   "cell_type": "code",
   "execution_count": 4,
   "metadata": {},
   "outputs": [],
   "source": [
    "soup = BeautifulSoup(response.text, \"html.parser\")"
   ]
  },
  {
   "cell_type": "code",
   "execution_count": 87,
   "metadata": {},
   "outputs": [],
   "source": [
    "url = {}"
   ]
  },
  {
   "cell_type": "code",
   "execution_count": 26,
   "metadata": {},
   "outputs": [],
   "source": [
    "list_items = soup.find_all(\"li\", class_=\"header-nav__list-item\")"
   ]
  },
  {
   "cell_type": "code",
   "execution_count": 92,
   "metadata": {},
   "outputs": [
    {
     "data": {
      "text/plain": [
       "['https://academy.investopedia.com/products/investing-for-beginners',\n",
       " 'https://academy.investopedia.com/collections/investing-courses-catalog',\n",
       " 'https://academy.investopedia.com/products/technical-analysis',\n",
       " 'https://academy.investopedia.com/products/trading-for-beginners',\n",
       " 'https://academy.investopedia.com/collections/trading-courses-collection',\n",
       " 'https://academy.investopedia.com/',\n",
       " 'https://academy.investopedia.com/products/become-a-day-trader']"
      ]
     },
     "execution_count": 92,
     "metadata": {},
     "output_type": "execute_result"
    }
   ],
   "source": [
    "for item in list_items:\n",
    "    key = item.a.text.strip()\n",
    "    links = item.find_all('a')\n",
    "    value = list(set(link['href'] for link in links))\n",
    "    url[key] = value\n",
    "\n",
    "url.pop(\"Simulator\")\n",
    "url.pop(\"Academy\")"
   ]
  },
  {
   "cell_type": "code",
   "execution_count": 93,
   "metadata": {},
   "outputs": [
    {
     "data": {
      "text/plain": [
       "{'Investing': ['https://www.investopedia.com/etfs-4427784',\n",
       "  'https://www.investopedia.com/cryptocurrency-4427699',\n",
       "  'https://www.investopedia.com/bonds-4689778',\n",
       "  'https://www.investopedia.com/fundamental-analysis-4689757',\n",
       "  'https://www.investopedia.com/options-and-derivatives-trading-4689663',\n",
       "  'https://www.investopedia.com/financial-technology-and-automated-investing-4689759',\n",
       "  'https://www.investopedia.com/trading-4427765',\n",
       "  'https://www.investopedia.com/brokers-4689772',\n",
       "  'https://www.investopedia.com/stocks-4427785',\n",
       "  'https://www.investopedia.com/markets/',\n",
       "  'https://www.investopedia.com/commodities-4427780',\n",
       "  'https://www.investopedia.com/investing-4427685'],\n",
       " 'Banking': ['https://www.investopedia.com/checking-accounts-4689732',\n",
       "  'https://www.investopedia.com/savings-accounts-4689728',\n",
       "  'https://www.investopedia.com/money-market-account-4689730',\n",
       "  'https://www.investopedia.com/certificate-of-deposits-4689733',\n",
       "  'https://www.investopedia.com/banking-4427754'],\n",
       " 'Personal Finance': ['https://www.investopedia.com/credit-and-debt-4689724',\n",
       "  'https://www.investopedia.com/personal-loans-4689729',\n",
       "  'https://www.investopedia.com/retirement-planning-4689695',\n",
       "  'https://www.investopedia.com/taxes-4427724',\n",
       "  'https://www.investopedia.com/mortgage-4689703',\n",
       "  'https://www.investopedia.com/student-loans-4689727',\n",
       "  'https://www.investopedia.com/credit-card-4689721',\n",
       "  'https://www.investopedia.com/personal-finance-4427760',\n",
       "  'https://www.investopedia.com/insurance-4427716',\n",
       "  'https://www.investopedia.com/budgeting-and-savings-4427755',\n",
       "  'https://www.investopedia.com/financial-literacy-resource-center-7151950'],\n",
       " 'News': ['https://www.investopedia.com/news-4427706',\n",
       "  'https://www.investopedia.com/cryptocurrency-news-5114163',\n",
       "  'https://www.investopedia.com/mortgage-rates-5184598',\n",
       "  'https://www.investopedia.com/political-news-4689737',\n",
       "  'https://www.investopedia.com/markets-news-4427704',\n",
       "  'https://www.investopedia.com/company-news-4427705',\n",
       "  'https://www.investopedia.com/certificates-deposit-news-7111770',\n",
       "  'https://www.investopedia.com/earnings-reports-5218419',\n",
       "  'https://www.investopedia.com/economic-news-5218422',\n",
       "  'https://www.investopedia.com/etf-news-5218416',\n",
       "  'https://www.investopedia.com/personal-finance-news-5114159'],\n",
       " 'Reviews': ['https://www.investopedia.com/best-personal-loans-4773300',\n",
       "  'https://www.investopedia.com/best-life-insurance-companies-4845858',\n",
       "  'https://www.investopedia.com/best-money-market-accounts-5096917',\n",
       "  'https://www.investopedia.com/mortgage-rates-5094943',\n",
       "  'https://www.investopedia.com/best-credit-cards-4801582',\n",
       "  'https://www.investopedia.com/best-cd-rates-4770214',\n",
       "  'https://www.investopedia.com/best-auto-loan-rates-4846394',\n",
       "  'https://www.investopedia.com/best-online-brokers-4587872',\n",
       "  'https://www.investopedia.com/financial-product-reviews-7110783',\n",
       "  'https://www.investopedia.com/best-credit-repair-companies-4843898',\n",
       "  'https://www.investopedia.com/best-high-yield-savings-accounts-4770633']}"
      ]
     },
     "execution_count": 93,
     "metadata": {},
     "output_type": "execute_result"
    }
   ],
   "source": [
    "url"
   ]
  },
  {
   "cell_type": "code",
   "execution_count": 94,
   "metadata": {},
   "outputs": [],
   "source": [
    "alph_items = soup.find_all(\"li\", class_=\"comp terms-bar__item mntl-block\")"
   ]
  },
  {
   "cell_type": "code",
   "execution_count": 98,
   "metadata": {},
   "outputs": [],
   "source": [
    "for el in alph_items:\n",
    "    key = el.a.text.strip()\n",
    "    value = el.a['href']\n",
    "    url[key] = value"
   ]
  },
  {
   "cell_type": "code",
   "execution_count": 99,
   "metadata": {},
   "outputs": [
    {
     "data": {
      "text/plain": [
       "{'Investing': ['https://www.investopedia.com/etfs-4427784',\n",
       "  'https://www.investopedia.com/cryptocurrency-4427699',\n",
       "  'https://www.investopedia.com/bonds-4689778',\n",
       "  'https://www.investopedia.com/fundamental-analysis-4689757',\n",
       "  'https://www.investopedia.com/options-and-derivatives-trading-4689663',\n",
       "  'https://www.investopedia.com/financial-technology-and-automated-investing-4689759',\n",
       "  'https://www.investopedia.com/trading-4427765',\n",
       "  'https://www.investopedia.com/brokers-4689772',\n",
       "  'https://www.investopedia.com/stocks-4427785',\n",
       "  'https://www.investopedia.com/markets/',\n",
       "  'https://www.investopedia.com/commodities-4427780',\n",
       "  'https://www.investopedia.com/investing-4427685'],\n",
       " 'Banking': ['https://www.investopedia.com/checking-accounts-4689732',\n",
       "  'https://www.investopedia.com/savings-accounts-4689728',\n",
       "  'https://www.investopedia.com/money-market-account-4689730',\n",
       "  'https://www.investopedia.com/certificate-of-deposits-4689733',\n",
       "  'https://www.investopedia.com/banking-4427754'],\n",
       " 'Personal Finance': ['https://www.investopedia.com/credit-and-debt-4689724',\n",
       "  'https://www.investopedia.com/personal-loans-4689729',\n",
       "  'https://www.investopedia.com/retirement-planning-4689695',\n",
       "  'https://www.investopedia.com/taxes-4427724',\n",
       "  'https://www.investopedia.com/mortgage-4689703',\n",
       "  'https://www.investopedia.com/student-loans-4689727',\n",
       "  'https://www.investopedia.com/credit-card-4689721',\n",
       "  'https://www.investopedia.com/personal-finance-4427760',\n",
       "  'https://www.investopedia.com/insurance-4427716',\n",
       "  'https://www.investopedia.com/budgeting-and-savings-4427755',\n",
       "  'https://www.investopedia.com/financial-literacy-resource-center-7151950'],\n",
       " 'News': ['https://www.investopedia.com/news-4427706',\n",
       "  'https://www.investopedia.com/cryptocurrency-news-5114163',\n",
       "  'https://www.investopedia.com/mortgage-rates-5184598',\n",
       "  'https://www.investopedia.com/political-news-4689737',\n",
       "  'https://www.investopedia.com/markets-news-4427704',\n",
       "  'https://www.investopedia.com/company-news-4427705',\n",
       "  'https://www.investopedia.com/certificates-deposit-news-7111770',\n",
       "  'https://www.investopedia.com/earnings-reports-5218419',\n",
       "  'https://www.investopedia.com/economic-news-5218422',\n",
       "  'https://www.investopedia.com/etf-news-5218416',\n",
       "  'https://www.investopedia.com/personal-finance-news-5114159'],\n",
       " 'Reviews': ['https://www.investopedia.com/best-personal-loans-4773300',\n",
       "  'https://www.investopedia.com/best-life-insurance-companies-4845858',\n",
       "  'https://www.investopedia.com/best-money-market-accounts-5096917',\n",
       "  'https://www.investopedia.com/mortgage-rates-5094943',\n",
       "  'https://www.investopedia.com/best-credit-cards-4801582',\n",
       "  'https://www.investopedia.com/best-cd-rates-4770214',\n",
       "  'https://www.investopedia.com/best-auto-loan-rates-4846394',\n",
       "  'https://www.investopedia.com/best-online-brokers-4587872',\n",
       "  'https://www.investopedia.com/financial-product-reviews-7110783',\n",
       "  'https://www.investopedia.com/best-credit-repair-companies-4843898',\n",
       "  'https://www.investopedia.com/best-high-yield-savings-accounts-4770633'],\n",
       " '#': 'https://www.investopedia.com/terms-beginning-with-num-4769350',\n",
       " 'A': 'https://www.investopedia.com/terms-beginning-with-a-4769351',\n",
       " 'B': 'https://www.investopedia.com/terms-beginning-with-b-4769352',\n",
       " 'C': 'https://www.investopedia.com/terms-beginning-with-c-4769353',\n",
       " 'D': 'https://www.investopedia.com/terms-beginning-with-d-4769354',\n",
       " 'E': 'https://www.investopedia.com/terms-beginning-with-e-4769355',\n",
       " 'F': 'https://www.investopedia.com/terms-beginning-with-f-4769356',\n",
       " 'G': 'https://www.investopedia.com/terms-beginning-with-g-4769357',\n",
       " 'H': 'https://www.investopedia.com/terms-beginning-with-h-4769358',\n",
       " 'I': 'https://www.investopedia.com/terms-beginning-with-i-4769359',\n",
       " 'J': 'https://www.investopedia.com/terms-beginning-with-j-4769360',\n",
       " 'K': 'https://www.investopedia.com/terms-beginning-with-k-4769361',\n",
       " 'L': 'https://www.investopedia.com/terms-beginning-with-l-4769362',\n",
       " 'M': 'https://www.investopedia.com/terms-beginning-with-m-4769363',\n",
       " 'N': 'https://www.investopedia.com/terms-beginning-with-n-4769364',\n",
       " 'O': 'https://www.investopedia.com/terms-beginning-with-o-4769365',\n",
       " 'P': 'https://www.investopedia.com/terms-beginning-with-p-4769366',\n",
       " 'Q': 'https://www.investopedia.com/terms-beginning-with-q-4769367',\n",
       " 'R': 'https://www.investopedia.com/terms-beginning-with-r-4769368',\n",
       " 'S': 'https://www.investopedia.com/terms-beginning-with-s-4769369',\n",
       " 'T': 'https://www.investopedia.com/terms-beginning-with-t-4769370',\n",
       " 'U': 'https://www.investopedia.com/terms-beginning-with-u-4769371',\n",
       " 'V': 'https://www.investopedia.com/terms-beginning-with-v-4769372',\n",
       " 'W': 'https://www.investopedia.com/terms-beginning-with-w-4769373',\n",
       " 'X': 'https://www.investopedia.com/terms-beginning-with-x-4769374',\n",
       " 'Y': 'https://www.investopedia.com/terms-beginning-with-y-4769375',\n",
       " 'Z': 'https://www.investopedia.com/terms-beginning-with-z-4769376'}"
      ]
     },
     "execution_count": 99,
     "metadata": {},
     "output_type": "execute_result"
    }
   ],
   "source": [
    "url"
   ]
  },
  {
   "cell_type": "code",
   "execution_count": 101,
   "metadata": {},
   "outputs": [
    {
     "data": {
      "text/plain": [
       "1645"
      ]
     },
     "execution_count": 101,
     "metadata": {},
     "output_type": "execute_result"
    }
   ],
   "source": [
    "sum(len(value) for value in url.values())"
   ]
  },
  {
   "cell_type": "code",
   "execution_count": null,
   "metadata": {},
   "outputs": [],
   "source": []
  }
 ],
 "metadata": {
  "kernelspec": {
   "display_name": "venv",
   "language": "python",
   "name": "python3"
  },
  "language_info": {
   "codemirror_mode": {
    "name": "ipython",
    "version": 3
   },
   "file_extension": ".py",
   "mimetype": "text/x-python",
   "name": "python",
   "nbconvert_exporter": "python",
   "pygments_lexer": "ipython3",
   "version": "3.10.13"
  }
 },
 "nbformat": 4,
 "nbformat_minor": 2
}
