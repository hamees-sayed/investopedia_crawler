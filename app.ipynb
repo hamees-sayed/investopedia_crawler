{
 "cells": [
  {
   "cell_type": "code",
   "execution_count": 130,
   "metadata": {},
   "outputs": [],
   "source": [
    "import requests\n",
    "from bs4 import BeautifulSoup"
   ]
  },
  {
   "cell_type": "code",
   "execution_count": 131,
   "metadata": {},
   "outputs": [],
   "source": [
    "url = \"https://www.investopedia.com/\"\n",
    "headers = {\n",
    "    \"User-Agent\": \"Mozilla/5.0 (Windows NT 10.0; Win64; x64) AppleWebKit/537.36 (KHTML, like Gecko) Chrome/125.0.0.0 Safari/537.36\"\n",
    "}"
   ]
  },
  {
   "cell_type": "code",
   "execution_count": 132,
   "metadata": {},
   "outputs": [],
   "source": [
    "response = requests.get(url, headers=headers)"
   ]
  },
  {
   "cell_type": "code",
   "execution_count": 133,
   "metadata": {},
   "outputs": [],
   "source": [
    "soup = BeautifulSoup(response.text, \"html.parser\")"
   ]
  },
  {
   "cell_type": "code",
   "execution_count": 134,
   "metadata": {},
   "outputs": [],
   "source": [
    "url = {}\n",
    "top_links = []\n",
    "articles = []"
   ]
  },
  {
   "cell_type": "code",
   "execution_count": 135,
   "metadata": {},
   "outputs": [],
   "source": [
    "list_items = soup.find_all(\"li\", class_=\"header-nav__list-item\")"
   ]
  },
  {
   "cell_type": "code",
   "execution_count": 136,
   "metadata": {},
   "outputs": [
    {
     "data": {
      "text/plain": [
       "['https://academy.investopedia.com/products/technical-analysis',\n",
       " 'https://academy.investopedia.com/',\n",
       " 'https://academy.investopedia.com/products/investing-for-beginners',\n",
       " 'https://academy.investopedia.com/products/become-a-day-trader',\n",
       " 'https://academy.investopedia.com/collections/trading-courses-collection',\n",
       " 'https://academy.investopedia.com/products/trading-for-beginners',\n",
       " 'https://academy.investopedia.com/collections/investing-courses-catalog']"
      ]
     },
     "execution_count": 136,
     "metadata": {},
     "output_type": "execute_result"
    }
   ],
   "source": [
    "for item in list_items:\n",
    "    key = item.a.text.strip()\n",
    "    links = item.find_all('a')\n",
    "    value = list(set(link['href'] for link in links))\n",
    "    url[key] = value\n",
    "    top_links.extend(value)\n",
    "\n",
    "url.pop(\"Simulator\")\n",
    "url.pop(\"Academy\")"
   ]
  },
  {
   "cell_type": "code",
   "execution_count": 137,
   "metadata": {},
   "outputs": [],
   "source": [
    "alph_items = soup.find_all(\"li\", class_=\"comp terms-bar__item mntl-block\")"
   ]
  },
  {
   "cell_type": "code",
   "execution_count": 138,
   "metadata": {},
   "outputs": [],
   "source": [
    "for el in alph_items:\n",
    "    key = el.a.text.strip()\n",
    "    value = el.a['href']\n",
    "    url[key] = value\n",
    "    top_links.append(value)"
   ]
  },
  {
   "cell_type": "code",
   "execution_count": 142,
   "metadata": {},
   "outputs": [],
   "source": [
    "for i in range(len(top_links)-1):\n",
    "    if \"simulator\" in top_links[i] or \"academy\" in top_links[i]:\n",
    "        top_links.remove(top_links[i])"
   ]
  },
  {
   "cell_type": "code",
   "execution_count": 143,
   "metadata": {},
   "outputs": [],
   "source": [
    "def get_links(url):\n",
    "    response = requests.get(url, headers=headers)\n",
    "    soup = BeautifulSoup(response.text, \"html.parser\")\n",
    "    links = soup.find_all('a', class_=[\"comp mntl-card-list-items mntl-document-card mntl-card card card--no-image\", \"dictionary-top300-list__list\", \"mntl-text-link\"])\n",
    "    return list(set(link['href'] for link in links if link['href'] not in top_links))"
   ]
  },
  {
   "cell_type": "code",
   "execution_count": 144,
   "metadata": {},
   "outputs": [],
   "source": [
    "for link in top_links:\n",
    "    articles.extend(get_links(link))"
   ]
  },
  {
   "cell_type": "code",
   "execution_count": 150,
   "metadata": {},
   "outputs": [
    {
     "data": {
      "text/plain": [
       "8592"
      ]
     },
     "execution_count": 150,
     "metadata": {},
     "output_type": "execute_result"
    }
   ],
   "source": [
    "len(list(set(articles)))"
   ]
  },
  {
   "cell_type": "code",
   "execution_count": null,
   "metadata": {},
   "outputs": [],
   "source": []
  }
 ],
 "metadata": {
  "kernelspec": {
   "display_name": "venv",
   "language": "python",
   "name": "python3"
  },
  "language_info": {
   "codemirror_mode": {
    "name": "ipython",
    "version": 3
   },
   "file_extension": ".py",
   "mimetype": "text/x-python",
   "name": "python",
   "nbconvert_exporter": "python",
   "pygments_lexer": "ipython3",
   "version": "3.10.13"
  }
 },
 "nbformat": 4,
 "nbformat_minor": 2
}
