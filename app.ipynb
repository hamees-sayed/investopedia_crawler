{
 "cells": [
  {
   "cell_type": "code",
   "execution_count": 3,
   "metadata": {},
   "outputs": [
    {
     "name": "stdout",
     "output_type": "stream",
     "text": [
      "Requirement already satisfied: datasets in /usr/local/python/3.10.13/lib/python3.10/site-packages (2.19.1)\n",
      "Requirement already satisfied: markdownify in /usr/local/python/3.10.13/lib/python3.10/site-packages (0.12.1)\n",
      "Requirement already satisfied: html2text in /usr/local/python/3.10.13/lib/python3.10/site-packages (2024.2.26)\n",
      "Requirement already satisfied: huggingface_hub in /usr/local/python/3.10.13/lib/python3.10/site-packages (0.23.0)\n",
      "Requirement already satisfied: ipywidgets in /usr/local/python/3.10.13/lib/python3.10/site-packages (8.1.2)\n",
      "Requirement already satisfied: filelock in /home/codespace/.local/lib/python3.10/site-packages (from datasets) (3.13.3)\n",
      "Requirement already satisfied: numpy>=1.17 in /home/codespace/.local/lib/python3.10/site-packages (from datasets) (1.26.4)\n",
      "Requirement already satisfied: pyarrow>=12.0.0 in /usr/local/python/3.10.13/lib/python3.10/site-packages (from datasets) (16.1.0)\n",
      "Requirement already satisfied: pyarrow-hotfix in /usr/local/python/3.10.13/lib/python3.10/site-packages (from datasets) (0.6)\n",
      "Requirement already satisfied: dill<0.3.9,>=0.3.0 in /usr/local/python/3.10.13/lib/python3.10/site-packages (from datasets) (0.3.8)\n",
      "Requirement already satisfied: pandas in /home/codespace/.local/lib/python3.10/site-packages (from datasets) (2.2.1)\n",
      "Requirement already satisfied: requests>=2.19.0 in /home/codespace/.local/lib/python3.10/site-packages (from datasets) (2.31.0)\n",
      "Requirement already satisfied: tqdm>=4.62.1 in /usr/local/python/3.10.13/lib/python3.10/site-packages (from datasets) (4.66.4)\n",
      "Requirement already satisfied: xxhash in /usr/local/python/3.10.13/lib/python3.10/site-packages (from datasets) (3.4.1)\n",
      "Requirement already satisfied: multiprocess in /usr/local/python/3.10.13/lib/python3.10/site-packages (from datasets) (0.70.16)\n",
      "Requirement already satisfied: fsspec<=2024.3.1,>=2023.1.0 in /home/codespace/.local/lib/python3.10/site-packages (from fsspec[http]<=2024.3.1,>=2023.1.0->datasets) (2024.3.1)\n",
      "Requirement already satisfied: aiohttp in /usr/local/python/3.10.13/lib/python3.10/site-packages (from datasets) (3.9.5)\n",
      "Requirement already satisfied: packaging in /home/codespace/.local/lib/python3.10/site-packages (from datasets) (24.0)\n",
      "Requirement already satisfied: pyyaml>=5.1 in /home/codespace/.local/lib/python3.10/site-packages (from datasets) (6.0.1)\n",
      "Requirement already satisfied: beautifulsoup4<5,>=4.9 in /home/codespace/.local/lib/python3.10/site-packages (from markdownify) (4.12.3)\n",
      "Requirement already satisfied: six<2,>=1.15 in /home/codespace/.local/lib/python3.10/site-packages (from markdownify) (1.16.0)\n",
      "Requirement already satisfied: typing-extensions>=3.7.4.3 in /home/codespace/.local/lib/python3.10/site-packages (from huggingface_hub) (4.10.0)\n",
      "Requirement already satisfied: comm>=0.1.3 in /home/codespace/.local/lib/python3.10/site-packages (from ipywidgets) (0.2.2)\n",
      "Requirement already satisfied: ipython>=6.1.0 in /home/codespace/.local/lib/python3.10/site-packages (from ipywidgets) (8.23.0)\n",
      "Requirement already satisfied: traitlets>=4.3.1 in /home/codespace/.local/lib/python3.10/site-packages (from ipywidgets) (5.14.2)\n",
      "Requirement already satisfied: widgetsnbextension~=4.0.10 in /usr/local/python/3.10.13/lib/python3.10/site-packages (from ipywidgets) (4.0.10)\n",
      "Requirement already satisfied: jupyterlab-widgets~=3.0.10 in /usr/local/python/3.10.13/lib/python3.10/site-packages (from ipywidgets) (3.0.10)\n",
      "Requirement already satisfied: soupsieve>1.2 in /home/codespace/.local/lib/python3.10/site-packages (from beautifulsoup4<5,>=4.9->markdownify) (2.5)\n",
      "Requirement already satisfied: aiosignal>=1.1.2 in /usr/local/python/3.10.13/lib/python3.10/site-packages (from aiohttp->datasets) (1.3.1)\n",
      "Requirement already satisfied: attrs>=17.3.0 in /home/codespace/.local/lib/python3.10/site-packages (from aiohttp->datasets) (23.2.0)\n",
      "Requirement already satisfied: frozenlist>=1.1.1 in /usr/local/python/3.10.13/lib/python3.10/site-packages (from aiohttp->datasets) (1.4.1)\n",
      "Requirement already satisfied: multidict<7.0,>=4.5 in /usr/local/python/3.10.13/lib/python3.10/site-packages (from aiohttp->datasets) (6.0.5)\n",
      "Requirement already satisfied: yarl<2.0,>=1.0 in /usr/local/python/3.10.13/lib/python3.10/site-packages (from aiohttp->datasets) (1.9.4)\n",
      "Requirement already satisfied: async-timeout<5.0,>=4.0 in /usr/local/python/3.10.13/lib/python3.10/site-packages (from aiohttp->datasets) (4.0.3)\n",
      "Requirement already satisfied: decorator in /home/codespace/.local/lib/python3.10/site-packages (from ipython>=6.1.0->ipywidgets) (5.1.1)\n",
      "Requirement already satisfied: jedi>=0.16 in /home/codespace/.local/lib/python3.10/site-packages (from ipython>=6.1.0->ipywidgets) (0.19.1)\n",
      "Requirement already satisfied: matplotlib-inline in /home/codespace/.local/lib/python3.10/site-packages (from ipython>=6.1.0->ipywidgets) (0.1.6)\n",
      "Requirement already satisfied: prompt-toolkit<3.1.0,>=3.0.41 in /home/codespace/.local/lib/python3.10/site-packages (from ipython>=6.1.0->ipywidgets) (3.0.43)\n",
      "Requirement already satisfied: pygments>=2.4.0 in /home/codespace/.local/lib/python3.10/site-packages (from ipython>=6.1.0->ipywidgets) (2.17.2)\n",
      "Requirement already satisfied: stack-data in /home/codespace/.local/lib/python3.10/site-packages (from ipython>=6.1.0->ipywidgets) (0.6.3)\n",
      "Requirement already satisfied: exceptiongroup in /home/codespace/.local/lib/python3.10/site-packages (from ipython>=6.1.0->ipywidgets) (1.2.0)\n",
      "Requirement already satisfied: pexpect>4.3 in /home/codespace/.local/lib/python3.10/site-packages (from ipython>=6.1.0->ipywidgets) (4.9.0)\n",
      "Requirement already satisfied: charset-normalizer<4,>=2 in /home/codespace/.local/lib/python3.10/site-packages (from requests>=2.19.0->datasets) (3.3.2)\n",
      "Requirement already satisfied: idna<4,>=2.5 in /home/codespace/.local/lib/python3.10/site-packages (from requests>=2.19.0->datasets) (3.6)\n",
      "Requirement already satisfied: urllib3<3,>=1.21.1 in /home/codespace/.local/lib/python3.10/site-packages (from requests>=2.19.0->datasets) (2.2.1)\n",
      "Requirement already satisfied: certifi>=2017.4.17 in /home/codespace/.local/lib/python3.10/site-packages (from requests>=2.19.0->datasets) (2024.2.2)\n",
      "Requirement already satisfied: python-dateutil>=2.8.2 in /home/codespace/.local/lib/python3.10/site-packages (from pandas->datasets) (2.9.0.post0)\n",
      "Requirement already satisfied: pytz>=2020.1 in /home/codespace/.local/lib/python3.10/site-packages (from pandas->datasets) (2024.1)\n",
      "Requirement already satisfied: tzdata>=2022.7 in /home/codespace/.local/lib/python3.10/site-packages (from pandas->datasets) (2024.1)\n",
      "Requirement already satisfied: parso<0.9.0,>=0.8.3 in /home/codespace/.local/lib/python3.10/site-packages (from jedi>=0.16->ipython>=6.1.0->ipywidgets) (0.8.3)\n",
      "Requirement already satisfied: ptyprocess>=0.5 in /home/codespace/.local/lib/python3.10/site-packages (from pexpect>4.3->ipython>=6.1.0->ipywidgets) (0.7.0)\n",
      "Requirement already satisfied: wcwidth in /home/codespace/.local/lib/python3.10/site-packages (from prompt-toolkit<3.1.0,>=3.0.41->ipython>=6.1.0->ipywidgets) (0.2.13)\n",
      "Requirement already satisfied: executing>=1.2.0 in /home/codespace/.local/lib/python3.10/site-packages (from stack-data->ipython>=6.1.0->ipywidgets) (2.0.1)\n",
      "Requirement already satisfied: asttokens>=2.1.0 in /home/codespace/.local/lib/python3.10/site-packages (from stack-data->ipython>=6.1.0->ipywidgets) (2.4.1)\n",
      "Requirement already satisfied: pure-eval in /home/codespace/.local/lib/python3.10/site-packages (from stack-data->ipython>=6.1.0->ipywidgets) (0.2.2)\n",
      "Note: you may need to restart the kernel to use updated packages.\n"
     ]
    }
   ],
   "source": [
    "%pip install datasets markdownify html2text huggingface_hub ipywidgets"
   ]
  },
  {
   "cell_type": "code",
   "execution_count": 4,
   "metadata": {},
   "outputs": [],
   "source": [
    "import requests\n",
    "import html2text\n",
    "import markdownify\n",
    "import pandas as pd\n",
    "import concurrent.futures\n",
    "from datasets import Dataset\n",
    "from bs4 import BeautifulSoup\n",
    "from tqdm.notebook import tqdm\n",
    "from huggingface_hub import notebook_login"
   ]
  },
  {
   "cell_type": "code",
   "execution_count": 5,
   "metadata": {},
   "outputs": [
    {
     "data": {
      "application/vnd.jupyter.widget-view+json": {
       "model_id": "9c35fb8020d443c9aa0221ee446f9bb9",
       "version_major": 2,
       "version_minor": 0
      },
      "text/plain": [
       "VBox(children=(HTML(value='<center> <img\\nsrc=https://huggingface.co/front/assets/huggingface_logo-noborder.sv…"
      ]
     },
     "metadata": {},
     "output_type": "display_data"
    }
   ],
   "source": [
    "notebook_login()"
   ]
  },
  {
   "cell_type": "code",
   "execution_count": 6,
   "metadata": {},
   "outputs": [],
   "source": [
    "url = \"https://www.investopedia.com/\"\n",
    "headers = {\n",
    "    \"User-Agent\": \"Mozilla/5.0 (Windows NT 10.0; Win64; x64) AppleWebKit/537.36 (KHTML, like Gecko) Chrome/125.0.0.0 Safari/537.36\"\n",
    "}"
   ]
  },
  {
   "cell_type": "code",
   "execution_count": 7,
   "metadata": {},
   "outputs": [],
   "source": [
    "response = requests.get(url, headers=headers)"
   ]
  },
  {
   "cell_type": "code",
   "execution_count": 8,
   "metadata": {},
   "outputs": [],
   "source": [
    "soup = BeautifulSoup(response.text, \"html.parser\")"
   ]
  },
  {
   "cell_type": "code",
   "execution_count": 9,
   "metadata": {},
   "outputs": [],
   "source": [
    "top_links = []\n",
    "def get_nav_links():\n",
    "    \"\"\"\n",
    "    Gets all the links from the navbar.\n",
    "    \"\"\"\n",
    "    response = requests.get(url, headers=headers)\n",
    "    soup = BeautifulSoup(response.text, \"html.parser\")\n",
    "    nav_links = soup.find_all(\"li\", class_=\"header-nav__list-item\")\n",
    "    nav_top_links = []\n",
    "    for link in nav_links:\n",
    "        if \"simulator\" not in link.a[\"href\"] and \"academy\" not in link.a[\"href\"]:\n",
    "            nav_top_links.append(link.a[\"href\"])\n",
    "            top_links.append(link.a[\"href\"])\n",
    "    for link in nav_top_links:\n",
    "        response = requests.get(link, headers=headers)\n",
    "        soup_sublink = BeautifulSoup(response.text, \"html.parser\")\n",
    "        sub_links = soup_sublink.find_all(\"li\", class_=\"header-nav__sublist-item\")\n",
    "        for sub_link in sub_links:\n",
    "            if \"simulator\" not in sub_link.a[\"href\"] and \"academy\" not in sub_link.a[\"href\"]:\n",
    "                top_links.append(sub_link.a[\"href\"])\n",
    "    "
   ]
  },
  {
   "cell_type": "code",
   "execution_count": 10,
   "metadata": {},
   "outputs": [],
   "source": [
    "get_nav_links()"
   ]
  },
  {
   "cell_type": "code",
   "execution_count": 11,
   "metadata": {},
   "outputs": [],
   "source": [
    "morein_links = []\n",
    "def get_morein_links(url):\n",
    "    response = requests.get(url, headers=headers)\n",
    "    soup = BeautifulSoup(response.text, \"html.parser\")\n",
    "    morein_links_bottom = soup.find_all(\"a\", class_=\"mntl-taxonomysc-sibling-node mntl-text-link\")\n",
    "    for morein_link in morein_links_bottom:\n",
    "        morein_links.append(morein_link[\"href\"])"
   ]
  },
  {
   "cell_type": "code",
   "execution_count": 12,
   "metadata": {},
   "outputs": [],
   "source": [
    "num_workers = 30"
   ]
  },
  {
   "cell_type": "code",
   "execution_count": 13,
   "metadata": {},
   "outputs": [],
   "source": [
    "with concurrent.futures.ThreadPoolExecutor(max_workers=num_workers) as executor:\n",
    "    executor.map(get_morein_links, top_links)"
   ]
  },
  {
   "cell_type": "code",
   "execution_count": 14,
   "metadata": {},
   "outputs": [],
   "source": [
    "top_links.extend(morein_links)"
   ]
  },
  {
   "cell_type": "code",
   "execution_count": 15,
   "metadata": {},
   "outputs": [],
   "source": [
    "top_links = list(set(top_links))"
   ]
  },
  {
   "cell_type": "code",
   "execution_count": 16,
   "metadata": {},
   "outputs": [],
   "source": [
    "footer_links = []\n",
    "def get_footer_links():\n",
    "    footer_links_btm = soup.find_all(\"li\", class_=\"comp terms-bar__item mntl-block\")\n",
    "    for link in footer_links_btm:\n",
    "        footer_links.append(link.a[\"href\"])"
   ]
  },
  {
   "cell_type": "code",
   "execution_count": 17,
   "metadata": {},
   "outputs": [],
   "source": [
    "get_footer_links()"
   ]
  },
  {
   "cell_type": "code",
   "execution_count": 18,
   "metadata": {},
   "outputs": [],
   "source": [
    "def get_faq_links(url):\n",
    "    response = requests.get(url, headers=headers)\n",
    "    soup = BeautifulSoup(response.text, \"html.parser\")\n",
    "    faq_links = soup.find_all(\"a\", class_=\"accordion-content__feature-link mntl-text-link\")\n",
    "    return list(set([link[\"href\"] for link in faq_links]))"
   ]
  },
  {
   "cell_type": "code",
   "execution_count": 19,
   "metadata": {},
   "outputs": [],
   "source": [
    "def get_key_term_links(url):\n",
    "    response = requests.get(url, headers=headers)\n",
    "    soup = BeautifulSoup(response.text, \"html.parser\")\n",
    "    key_term_links = soup.find_all(\"a\", class_=\"carousel-card__link mntl-text-link\")\n",
    "    return list(set([link[\"href\"] for link in key_term_links]))"
   ]
  },
  {
   "cell_type": "code",
   "execution_count": 20,
   "metadata": {},
   "outputs": [],
   "source": [
    "article_links = []\n",
    "def get_article_links(url):\n",
    "    response = requests.get(url, headers=headers)\n",
    "    soup = BeautifulSoup(response.text, \"html.parser\")\n",
    "    links = soup.find_all('a', class_=\"comp mntl-card-list-items mntl-document-card mntl-card card card--no-image\")\n",
    "    if links:\n",
    "        faq_links = get_faq_links(url)\n",
    "        key_term_links = get_key_term_links(url)\n",
    "        article_links.extend(key_term_links + faq_links + list(set([link[\"href\"] for link in links])))\n",
    "    else:\n",
    "        footerlinks = soup.find_all(\"a\", class_=\"dictionary-top300-list__list mntl-text-link\")\n",
    "        article_links.extend([link[\"href\"] for link in footerlinks])"
   ]
  },
  {
   "cell_type": "code",
   "execution_count": 21,
   "metadata": {},
   "outputs": [],
   "source": [
    "with concurrent.futures.ThreadPoolExecutor(max_workers=num_workers) as executor:\n",
    "    executor.map(get_article_links, top_links)"
   ]
  },
  {
   "cell_type": "code",
   "execution_count": 22,
   "metadata": {},
   "outputs": [],
   "source": [
    "article_links = list(set(article_links))"
   ]
  },
  {
   "cell_type": "code",
   "execution_count": 23,
   "metadata": {},
   "outputs": [],
   "source": [
    "titles = []\n",
    "def get_article_title(url):\n",
    "    response = requests.get(url, headers=headers)\n",
    "    soup = BeautifulSoup(response.text, \"html.parser\")\n",
    "    title = soup.find(\"h1\", class_=\"article-heading\")\n",
    "    if title:\n",
    "        titles.append(title.text.strip())\n",
    "    else:\n",
    "        title = soup.find(\"title\")\n",
    "        titles.append(title.text.strip())"
   ]
  },
  {
   "cell_type": "code",
   "execution_count": 36,
   "metadata": {},
   "outputs": [],
   "source": [
    "html_content = []\n",
    "md_content = []\n",
    "clean_content = []\n",
    "def get_article_content(url):\n",
    "    response = requests.get(url, headers=headers)\n",
    "    soup = BeautifulSoup(response.text, \"html.parser\")\n",
    "    article = soup.find(\"div\", class_=\"comp mntl-sc-page mntl-block article-body-content\")\n",
    "    review = soup.find(\"div\", class_=\"article-body article-content\")\n",
    "    suggestion = soup.find(\"div\", class_=\"article-content\")\n",
    "    if article:\n",
    "        html_content.append(f\"{article}\")\n",
    "        md_content.append(markdownify.markdownify(f\"{article}\", heading_style=\"ATX\"))\n",
    "        clean_content.append(\" \".join([c.text for c in article]))\n",
    "    elif review:\n",
    "        html_content.append(f\"{review}\")\n",
    "        md_content.append(markdownify.markdownify(f\"{review}\", heading_style=\"ATX\"))\n",
    "        clean_content.append(\" \".join([c.text for c in review]))\n",
    "    elif suggestion:\n",
    "        html_content.append(f\"{suggestion}\")\n",
    "        md_content.append(markdownify.markdownify(f\"{suggestion}\", heading_style=\"ATX\"))\n",
    "        clean_content.append(\" \".join([c.text for c in suggestion]))"
   ]
  },
  {
   "cell_type": "code",
   "execution_count": null,
   "metadata": {},
   "outputs": [],
   "source": [
    "for link in tqdm(article_links):\n",
    "    try:\n",
    "        get_article_title(link)\n",
    "        get_article_content(link)\n",
    "    except Exception as e:\n",
    "        print(e, link)"
   ]
  },
  {
   "cell_type": "code",
   "execution_count": 55,
   "metadata": {},
   "outputs": [
    {
     "name": "stdout",
     "output_type": "stream",
     "text": [
      "4720 4 4 4\n"
     ]
    }
   ],
   "source": [
    "print(len(titles), len(html_content), len(md_content), len(clean_content))"
   ]
  },
  {
   "cell_type": "code",
   "execution_count": 39,
   "metadata": {},
   "outputs": [],
   "source": [
    "dataset_pd = {\n",
    "    \"url\": article_links,\n",
    "    \"title\": titles,\n",
    "    \"html_content\": html_content,\n",
    "    \"md_content\": md_content,\n",
    "    \"clean_content\": clean_content\n",
    "}"
   ]
  },
  {
   "cell_type": "code",
   "execution_count": 46,
   "metadata": {},
   "outputs": [
    {
     "name": "stdout",
     "output_type": "stream",
     "text": [
      "4715 4715 4715 4715 4715\n"
     ]
    }
   ],
   "source": [
    "print(len(article_links), len(titles), len(html_content), len(md_content), len(clean_content))"
   ]
  },
  {
   "cell_type": "code",
   "execution_count": 47,
   "metadata": {},
   "outputs": [],
   "source": [
    "df = pd.DataFrame(dataset_pd)"
   ]
  },
  {
   "cell_type": "code",
   "execution_count": 48,
   "metadata": {},
   "outputs": [
    {
     "data": {
      "text/html": [
       "<div>\n",
       "<style scoped>\n",
       "    .dataframe tbody tr th:only-of-type {\n",
       "        vertical-align: middle;\n",
       "    }\n",
       "\n",
       "    .dataframe tbody tr th {\n",
       "        vertical-align: top;\n",
       "    }\n",
       "\n",
       "    .dataframe thead th {\n",
       "        text-align: right;\n",
       "    }\n",
       "</style>\n",
       "<table border=\"1\" class=\"dataframe\">\n",
       "  <thead>\n",
       "    <tr style=\"text-align: right;\">\n",
       "      <th></th>\n",
       "      <th>url</th>\n",
       "      <th>title</th>\n",
       "      <th>html_content</th>\n",
       "      <th>md_content</th>\n",
       "      <th>clean_content</th>\n",
       "    </tr>\n",
       "  </thead>\n",
       "  <tbody>\n",
       "    <tr>\n",
       "      <th>0</th>\n",
       "      <td>https://www.investopedia.com/articles/exchange...</td>\n",
       "      <td>Building an All-ETF Portfolio</td>\n",
       "      <td>&lt;div class=\"comp mntl-sc-page mntl-block artic...</td>\n",
       "      <td>The emergence of [exchange-traded funds](http...</td>\n",
       "      <td>The emergence of exchange-traded funds (ETFs)...</td>\n",
       "    </tr>\n",
       "    <tr>\n",
       "      <th>1</th>\n",
       "      <td>https://www.investopedia.com/gdp-growth-slowed...</td>\n",
       "      <td>Economic Growth Surprisingly Slowed To 1.6% In...</td>\n",
       "      <td>&lt;div class=\"comp mntl-sc-page mntl-block artic...</td>\n",
       "      <td>### Key Takeaways\\n\\n\\n* The U.S. GDP grew at ...</td>\n",
       "      <td>Key Takeaways\\nThe U.S. GDP grew at an annual ...</td>\n",
       "    </tr>\n",
       "    <tr>\n",
       "      <th>2</th>\n",
       "      <td>https://www.investopedia.com/fallen-pandemic-s...</td>\n",
       "      <td>Fallen Pandemic Star Carvana Roars Back into G...</td>\n",
       "      <td>&lt;div class=\"comp mntl-sc-page mntl-block artic...</td>\n",
       "      <td>### Key Takeaways\\n\\n\\n* Carvana set profit an...</td>\n",
       "      <td>Key Takeaways\\nCarvana set profit and sales re...</td>\n",
       "    </tr>\n",
       "    <tr>\n",
       "      <th>3</th>\n",
       "      <td>https://www.investopedia.com/top-cds-today-mar...</td>\n",
       "      <td>Top CDs Today, March 27, 2024: Top Rates Range...</td>\n",
       "      <td>&lt;div class=\"comp mntl-sc-page mntl-block artic...</td>\n",
       "      <td>### Key Takeaways\\n\\n\\n* The best nationally a...</td>\n",
       "      <td>Key Takeaways\\n\\nThe best nationally available...</td>\n",
       "    </tr>\n",
       "    <tr>\n",
       "      <th>4</th>\n",
       "      <td>https://www.investopedia.com/us-prosecutors-se...</td>\n",
       "      <td>US Prosecutors Seek Up To 50-Year Prison Sente...</td>\n",
       "      <td>&lt;div class=\"comp mntl-sc-page mntl-block artic...</td>\n",
       "      <td>### Key Takeaways\\n\\n\\n* Prosecutors in former...</td>\n",
       "      <td>Key Takeaways\\nProsecutors in former FTX CEO S...</td>\n",
       "    </tr>\n",
       "    <tr>\n",
       "      <th>...</th>\n",
       "      <td>...</td>\n",
       "      <td>...</td>\n",
       "      <td>...</td>\n",
       "      <td>...</td>\n",
       "      <td>...</td>\n",
       "    </tr>\n",
       "    <tr>\n",
       "      <th>4710</th>\n",
       "      <td>spam</td>\n",
       "      <td>Indirect Loan: What it is, How it Works, Examples</td>\n",
       "      <td>spam</td>\n",
       "      <td>spam</td>\n",
       "      <td>spam</td>\n",
       "    </tr>\n",
       "    <tr>\n",
       "      <th>4711</th>\n",
       "      <td>spam</td>\n",
       "      <td>What Is a Fiduciary Duty? Examples and Types E...</td>\n",
       "      <td>spam</td>\n",
       "      <td>spam</td>\n",
       "      <td>spam</td>\n",
       "    </tr>\n",
       "    <tr>\n",
       "      <th>4712</th>\n",
       "      <td>spam</td>\n",
       "      <td>Inverse Relation Between Interest Rates and Bo...</td>\n",
       "      <td>spam</td>\n",
       "      <td>spam</td>\n",
       "      <td>spam</td>\n",
       "    </tr>\n",
       "    <tr>\n",
       "      <th>4713</th>\n",
       "      <td>spam</td>\n",
       "      <td>Which Companies Are Winning and Losing as Infl...</td>\n",
       "      <td>spam</td>\n",
       "      <td>spam</td>\n",
       "      <td>spam</td>\n",
       "    </tr>\n",
       "    <tr>\n",
       "      <th>4714</th>\n",
       "      <td>spam</td>\n",
       "      <td>Resetting our Money Mindset with a Financial T...</td>\n",
       "      <td>spam</td>\n",
       "      <td>spam</td>\n",
       "      <td>spam</td>\n",
       "    </tr>\n",
       "  </tbody>\n",
       "</table>\n",
       "<p>4715 rows × 5 columns</p>\n",
       "</div>"
      ],
      "text/plain": [
       "                                                    url  \\\n",
       "0     https://www.investopedia.com/articles/exchange...   \n",
       "1     https://www.investopedia.com/gdp-growth-slowed...   \n",
       "2     https://www.investopedia.com/fallen-pandemic-s...   \n",
       "3     https://www.investopedia.com/top-cds-today-mar...   \n",
       "4     https://www.investopedia.com/us-prosecutors-se...   \n",
       "...                                                 ...   \n",
       "4710                                               spam   \n",
       "4711                                               spam   \n",
       "4712                                               spam   \n",
       "4713                                               spam   \n",
       "4714                                               spam   \n",
       "\n",
       "                                                  title  \\\n",
       "0                         Building an All-ETF Portfolio   \n",
       "1     Economic Growth Surprisingly Slowed To 1.6% In...   \n",
       "2     Fallen Pandemic Star Carvana Roars Back into G...   \n",
       "3     Top CDs Today, March 27, 2024: Top Rates Range...   \n",
       "4     US Prosecutors Seek Up To 50-Year Prison Sente...   \n",
       "...                                                 ...   \n",
       "4710  Indirect Loan: What it is, How it Works, Examples   \n",
       "4711  What Is a Fiduciary Duty? Examples and Types E...   \n",
       "4712  Inverse Relation Between Interest Rates and Bo...   \n",
       "4713  Which Companies Are Winning and Losing as Infl...   \n",
       "4714  Resetting our Money Mindset with a Financial T...   \n",
       "\n",
       "                                           html_content  \\\n",
       "0     <div class=\"comp mntl-sc-page mntl-block artic...   \n",
       "1     <div class=\"comp mntl-sc-page mntl-block artic...   \n",
       "2     <div class=\"comp mntl-sc-page mntl-block artic...   \n",
       "3     <div class=\"comp mntl-sc-page mntl-block artic...   \n",
       "4     <div class=\"comp mntl-sc-page mntl-block artic...   \n",
       "...                                                 ...   \n",
       "4710                                               spam   \n",
       "4711                                               spam   \n",
       "4712                                               spam   \n",
       "4713                                               spam   \n",
       "4714                                               spam   \n",
       "\n",
       "                                             md_content  \\\n",
       "0      The emergence of [exchange-traded funds](http...   \n",
       "1     ### Key Takeaways\\n\\n\\n* The U.S. GDP grew at ...   \n",
       "2     ### Key Takeaways\\n\\n\\n* Carvana set profit an...   \n",
       "3     ### Key Takeaways\\n\\n\\n* The best nationally a...   \n",
       "4     ### Key Takeaways\\n\\n\\n* Prosecutors in former...   \n",
       "...                                                 ...   \n",
       "4710                                               spam   \n",
       "4711                                               spam   \n",
       "4712                                               spam   \n",
       "4713                                               spam   \n",
       "4714                                               spam   \n",
       "\n",
       "                                          clean_content  \n",
       "0      The emergence of exchange-traded funds (ETFs)...  \n",
       "1     Key Takeaways\\nThe U.S. GDP grew at an annual ...  \n",
       "2     Key Takeaways\\nCarvana set profit and sales re...  \n",
       "3     Key Takeaways\\n\\nThe best nationally available...  \n",
       "4     Key Takeaways\\nProsecutors in former FTX CEO S...  \n",
       "...                                                 ...  \n",
       "4710                                               spam  \n",
       "4711                                               spam  \n",
       "4712                                               spam  \n",
       "4713                                               spam  \n",
       "4714                                               spam  \n",
       "\n",
       "[4715 rows x 5 columns]"
      ]
     },
     "execution_count": 48,
     "metadata": {},
     "output_type": "execute_result"
    }
   ],
   "source": [
    "df"
   ]
  },
  {
   "cell_type": "code",
   "execution_count": 49,
   "metadata": {},
   "outputs": [],
   "source": [
    "dataset = Dataset.from_pandas(df)"
   ]
  },
  {
   "cell_type": "code",
   "execution_count": 50,
   "metadata": {},
   "outputs": [
    {
     "data": {
      "application/vnd.jupyter.widget-view+json": {
       "model_id": "d9567c66ec1046138d9dac4f58617ca8",
       "version_major": 2,
       "version_minor": 0
      },
      "text/plain": [
       "Uploading the dataset shards:   0%|          | 0/1 [00:00<?, ?it/s]"
      ]
     },
     "metadata": {},
     "output_type": "display_data"
    },
    {
     "data": {
      "application/vnd.jupyter.widget-view+json": {
       "model_id": "1ffa38ac3c204f5fa1546f4e15f15a60",
       "version_major": 2,
       "version_minor": 0
      },
      "text/plain": [
       "Creating parquet from Arrow format:   0%|          | 0/5 [00:00<?, ?ba/s]"
      ]
     },
     "metadata": {},
     "output_type": "display_data"
    },
    {
     "data": {
      "text/plain": [
       "CommitInfo(commit_url='https://huggingface.co/datasets/openvega-simon/investopedia/commit/6f694d4676d8f4132502804cf6b258368ff53599', commit_message='Upload dataset', commit_description='', oid='6f694d4676d8f4132502804cf6b258368ff53599', pr_url=None, pr_revision=None, pr_num=None)"
      ]
     },
     "execution_count": 50,
     "metadata": {},
     "output_type": "execute_result"
    }
   ],
   "source": [
    "dataset.push_to_hub(\"openvega-simon/investopedia\", token=True)"
   ]
  },
  {
   "cell_type": "code",
   "execution_count": 53,
   "metadata": {},
   "outputs": [
    {
     "data": {
      "text/plain": [
       "4715"
      ]
     },
     "execution_count": 53,
     "metadata": {},
     "output_type": "execute_result"
    }
   ],
   "source": [
    "len(article_links)"
   ]
  },
  {
   "cell_type": "code",
   "execution_count": null,
   "metadata": {},
   "outputs": [],
   "source": []
  }
 ],
 "metadata": {
  "kernelspec": {
   "display_name": "venv",
   "language": "python",
   "name": "python3"
  },
  "language_info": {
   "codemirror_mode": {
    "name": "ipython",
    "version": 3
   },
   "file_extension": ".py",
   "mimetype": "text/x-python",
   "name": "python",
   "nbconvert_exporter": "python",
   "pygments_lexer": "ipython3",
   "version": "3.10.13"
  }
 },
 "nbformat": 4,
 "nbformat_minor": 2
}
